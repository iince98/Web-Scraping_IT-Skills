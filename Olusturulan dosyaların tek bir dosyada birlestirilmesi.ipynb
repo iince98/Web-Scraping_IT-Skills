{
 "cells": [
  {
   "cell_type": "code",
   "execution_count": 1,
   "metadata": {},
   "outputs": [],
   "source": [
    "from os import listdir\n",
    "import csv\n",
    "from os.path import isfile, join\n",
    "import time\n",
    "\n",
    "\n",
    "mypath=\"c:/Users/iince/Documents/aa\" #Tüm dosyaların bulundugu klasor\n",
    "onlyfiles = [f for f in listdir(mypath)] #Dosyaların lıste halinde alınması\n",
    "\n",
    "\n",
    "\n",
    "f=open(\"c:/Users/iince/Documents/GitHub/aa.csv\", \"w\") #Tum dosyaların ıceriginin yazdırılacagı dosyanın acılması\n",
    "\n",
    "for aa in onlyfiles:\n",
    "    k=open(\"c:/Users/iince/Documents/aa/{}\".format(aa), \"r\") #Her bır dosyanın ıcerıgıgnın okunması\n",
    "    for tt in k:\n",
    "        time.sleep(1)\n",
    "    f.write(tt) #Her bır dosyanın ıceriginin tek bir dosyaya yazdırılması\n",
    "\n",
    "f.flush()\n",
    "k.flush()\n",
    "f.close()\n",
    "k.close()"
   ]
  },
  {
   "cell_type": "code",
   "execution_count": null,
   "metadata": {},
   "outputs": [],
   "source": []
  }
 ],
 "metadata": {
  "kernelspec": {
   "display_name": "Python 3",
   "language": "python",
   "name": "python3"
  },
  "language_info": {
   "codemirror_mode": {
    "name": "ipython",
    "version": 3
   },
   "file_extension": ".py",
   "mimetype": "text/x-python",
   "name": "python",
   "nbconvert_exporter": "python",
   "pygments_lexer": "ipython3",
   "version": "3.7.0"
  }
 },
 "nbformat": 4,
 "nbformat_minor": 2
}
